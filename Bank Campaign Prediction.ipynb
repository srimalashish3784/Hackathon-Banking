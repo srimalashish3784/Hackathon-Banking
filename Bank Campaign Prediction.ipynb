{
 "cells": [
  {
   "cell_type": "markdown",
   "metadata": {},
   "source": [
    "### Importing the Libraries\n",
    "\n",
    "I usually import libraries on the go. So, look out for that."
   ]
  },
  {
   "cell_type": "code",
   "execution_count": 1,
   "metadata": {},
   "outputs": [],
   "source": [
    "import pandas as pd\n",
    "import numpy as np\n",
    "import matplotlib.pyplot as plt\n",
    "import warnings\n",
    "warnings.filterwarnings(\"ignore\")\n",
    "import seaborn as sns\n",
    "%matplotlib inline\n",
    "pd.set_option(\"display.max_columns\", 100)\n",
    "from IPython.core.interactiveshell import InteractiveShell\n",
    "InteractiveShell.ast_node_interactivity = \"all\""
   ]
  },
  {
   "cell_type": "code",
   "execution_count": 3,
   "metadata": {},
   "outputs": [],
   "source": [
    "#Changing the directory\n",
    "import os\n",
    "os.chdir(\"/Users/ashishsrimal/Phase1Code/GreyAtom/data\")\n",
    "#Reading Training data\n",
    "data = pd.read_csv(\"train.csv\", delimiter=\",\")\n",
    "#data.head(10)"
   ]
  },
  {
   "cell_type": "code",
   "execution_count": 4,
   "metadata": {},
   "outputs": [],
   "source": [
    "#Dropping ID columns as its not required for modelling.\n",
    "data.drop([\"Id\"], inplace=True, axis=1)"
   ]
  },
  {
   "cell_type": "code",
   "execution_count": 5,
   "metadata": {},
   "outputs": [
    {
     "data": {
      "text/plain": [
       "age               0\n",
       "job               0\n",
       "marital           0\n",
       "education         0\n",
       "default           0\n",
       "housing           0\n",
       "loan              0\n",
       "contact           0\n",
       "month             0\n",
       "day_of_week       0\n",
       "duration          0\n",
       "campaign          0\n",
       "pdays             0\n",
       "previous          0\n",
       "poutcome          0\n",
       "emp.var.rate      0\n",
       "cons.price.idx    0\n",
       "cons.conf.idx     0\n",
       "euribor3m         0\n",
       "nr.employed       0\n",
       "y                 0\n",
       "dtype: int64"
      ]
     },
     "execution_count": 5,
     "metadata": {},
     "output_type": "execute_result"
    }
   ],
   "source": [
    "#Checking for null values\n",
    "data.isnull().sum()"
   ]
  },
  {
   "cell_type": "markdown",
   "metadata": {},
   "source": [
    "#### Fortunately we dont have missing values.But be careful, it may be a trap."
   ]
  },
  {
   "cell_type": "code",
   "execution_count": 6,
   "metadata": {},
   "outputs": [
    {
     "name": "stdout",
     "output_type": "stream",
     "text": [
      "['age', 'duration', 'campaign', 'pdays', 'previous', 'emp.var.rate', 'cons.price.idx', 'cons.conf.idx', 'euribor3m', 'nr.employed']\n",
      "['job', 'marital', 'education', 'default', 'housing', 'loan', 'contact', 'month', 'day_of_week', 'poutcome', 'y']\n"
     ]
    }
   ],
   "source": [
    "#Looking at Categorical and Numerical values\n",
    "numerical_col = data.select_dtypes(include=np.number).columns.tolist()\n",
    "print(numerical_col)\n",
    "categorical_col = data.select_dtypes(exclude=np.number).columns.tolist()\n",
    "print(categorical_col)"
   ]
  },
  {
   "cell_type": "code",
   "execution_count": 7,
   "metadata": {},
   "outputs": [],
   "source": [
    "#For looking at percent of missing value,usually if its more than 70% we tend to drop the column completely\n",
    "x = data.isnull().sum()\n",
    "y = data.isnull().count()\n",
    "z = (x/y)*100\n",
    "missing_data = pd.concat([x,z], keys=[\"Number of Missing Value\", \"Percentage\"], axis=1)\n",
    "missing_data"
   ]
  },
  {
   "cell_type": "code",
   "execution_count": 8,
   "metadata": {},
   "outputs": [],
   "source": [
    "#removing the columns which has more than 70% of data missing\n",
    "a1 = missing_data[missing_data[\"Percentage\"]>0.7].index\n",
    "data = data.drop(a1, axis=1)\n",
    "#data.isnull().sum().sort_values(ascending = False)"
   ]
  },
  {
   "cell_type": "code",
   "execution_count": 9,
   "metadata": {},
   "outputs": [],
   "source": [
    "#If there is null values in the data, will replace with mean, but there are other methods too.\n",
    "nulls = pd.DataFrame(data.isnull().sum().sort_values(ascending=False))\n",
    "nulls = nulls[nulls>0]\n",
    "nulls.columns = [\"Null Counts\"]\n",
    "nulls.index.name = \"Feature\"\n",
    "\n",
    "for cols in nulls[nulls[\"Null Counts\"]>0].index:\n",
    "    data[cols].fillna(data[cols].mean(), inplace=True)"
   ]
  },
  {
   "cell_type": "code",
   "execution_count": 10,
   "metadata": {},
   "outputs": [
    {
     "data": {
      "text/plain": [
       "no     88.734446\n",
       "yes    11.265554\n",
       "Name: y, dtype: float64"
      ]
     },
     "execution_count": 10,
     "metadata": {},
     "output_type": "execute_result"
    }
   ],
   "source": [
    "#Checking the Imbalancing of the data\n",
    "#data[\"y\"].value_counts()/data[\"y\"].value_counts().sum()*100\n",
    "data[\"y\"].value_counts(normalize=True)*100"
   ]
  },
  {
   "cell_type": "markdown",
   "metadata": {},
   "source": [
    "### So, as you can see we have perfect Imbalance data. We will tackle this problem later in the code."
   ]
  },
  {
   "cell_type": "markdown",
   "metadata": {},
   "source": [
    "#### Outliers are the thing which we have to look out for. So, lets see how many outliers are there in out attributes"
   ]
  },
  {
   "cell_type": "code",
   "execution_count": 11,
   "metadata": {},
   "outputs": [
    {
     "data": {
      "text/html": [
       "<div>\n",
       "<style scoped>\n",
       "    .dataframe tbody tr th:only-of-type {\n",
       "        vertical-align: middle;\n",
       "    }\n",
       "\n",
       "    .dataframe tbody tr th {\n",
       "        vertical-align: top;\n",
       "    }\n",
       "\n",
       "    .dataframe thead th {\n",
       "        text-align: right;\n",
       "    }\n",
       "</style>\n",
       "<table border=\"1\" class=\"dataframe\">\n",
       "  <thead>\n",
       "    <tr style=\"text-align: right;\">\n",
       "      <th></th>\n",
       "      <th>Feature</th>\n",
       "      <th>Number of Outliers</th>\n",
       "    </tr>\n",
       "  </thead>\n",
       "  <tbody>\n",
       "    <tr>\n",
       "      <th>2</th>\n",
       "      <td>age</td>\n",
       "      <td>368.0</td>\n",
       "    </tr>\n",
       "    <tr>\n",
       "      <th>3</th>\n",
       "      <td>duration</td>\n",
       "      <td>2366.0</td>\n",
       "    </tr>\n",
       "    <tr>\n",
       "      <th>4</th>\n",
       "      <td>campaign</td>\n",
       "      <td>1916.0</td>\n",
       "    </tr>\n",
       "    <tr>\n",
       "      <th>5</th>\n",
       "      <td>pdays</td>\n",
       "      <td>1226.0</td>\n",
       "    </tr>\n",
       "    <tr>\n",
       "      <th>6</th>\n",
       "      <td>previous</td>\n",
       "      <td>4534.0</td>\n",
       "    </tr>\n",
       "    <tr>\n",
       "      <th>7</th>\n",
       "      <td>emp.var.rate</td>\n",
       "      <td>0.0</td>\n",
       "    </tr>\n",
       "    <tr>\n",
       "      <th>8</th>\n",
       "      <td>cons.price.idx</td>\n",
       "      <td>0.0</td>\n",
       "    </tr>\n",
       "    <tr>\n",
       "      <th>9</th>\n",
       "      <td>cons.conf.idx</td>\n",
       "      <td>359.0</td>\n",
       "    </tr>\n",
       "    <tr>\n",
       "      <th>10</th>\n",
       "      <td>euribor3m</td>\n",
       "      <td>0.0</td>\n",
       "    </tr>\n",
       "    <tr>\n",
       "      <th>11</th>\n",
       "      <td>nr.employed</td>\n",
       "      <td>0.0</td>\n",
       "    </tr>\n",
       "  </tbody>\n",
       "</table>\n",
       "</div>"
      ],
      "text/plain": [
       "           Feature  Number of Outliers\n",
       "2              age               368.0\n",
       "3         duration              2366.0\n",
       "4         campaign              1916.0\n",
       "5            pdays              1226.0\n",
       "6         previous              4534.0\n",
       "7     emp.var.rate                 0.0\n",
       "8   cons.price.idx                 0.0\n",
       "9    cons.conf.idx               359.0\n",
       "10       euribor3m                 0.0\n",
       "11     nr.employed                 0.0"
      ]
     },
     "execution_count": 11,
     "metadata": {},
     "output_type": "execute_result"
    }
   ],
   "source": [
    "cols = list(data)\n",
    "outliers = pd.DataFrame(['Features','Number of Outliers'])\n",
    "for column in cols:\n",
    "    if column in data.select_dtypes(include=np.number).columns:\n",
    "        \n",
    "        q1 = data[column].quantile(0.25)\n",
    "        \n",
    "        q3 = data[column].quantile(0.75)\n",
    "        \n",
    "        iqr = q3 - q1\n",
    "        \n",
    "        fence_low = q1 - (1.5*iqr)\n",
    "        fence_above = q3 + (1.5*iqr)\n",
    "        \n",
    "        outliers = outliers.append({'Feature':column,'Number of Outliers':data.loc[(data[column] < fence_low) | (data[column] > fence_above)].shape[0]},ignore_index=True)\n",
    "\n",
    "outliers.drop(0, axis=1, inplace=True)\n",
    "outliers.dropna(axis=0, inplace=True)\n",
    "outliers"
   ]
  },
  {
   "cell_type": "markdown",
   "metadata": {},
   "source": [
    "#### So, there are hell lot of outliers. Or we can say there might be good amount of skewness in the attributes.\n",
    "\n",
    "### So, lets visualize it through some plots and graphs"
   ]
  },
  {
   "cell_type": "markdown",
   "metadata": {},
   "source": [
    "## Univariate analysis of Categorical Data only"
   ]
  },
  {
   "cell_type": "code",
   "execution_count": 12,
   "metadata": {},
   "outputs": [],
   "source": [
    "# Function to perform univariate analysis of categorical columns\n",
    "categorical_col = data.select_dtypes(include=['object']).columns\n",
    "\n",
    "for i in range(0, len(categorical_col),2):\n",
    "    if len(categorical_col) > i+1:\n",
    "        \n",
    "        plt.figure(figsize=(10,4))\n",
    "        plt.subplot(121)\n",
    "        data[categorical_col[i]].value_counts(normalize=True).plot(kind='bar')\n",
    "        plt.title(categorical_col[i])\n",
    "        plt.subplot(122)\n",
    "        data[categorical_col[i+1]].value_counts(normalize=True).plot(kind='bar')\n",
    "        plt.title(categorical_col[i+1])\n",
    "        plt.tight_layout()\n",
    "        print(plt.show())\n",
    "        \n",
    "    else:\n",
    "        data[categorical_col[i]].value_counts(normalize=True).plot(kind='bar')\n",
    "        plt.title(categorical_col[i])"
   ]
  },
  {
   "cell_type": "markdown",
   "metadata": {},
   "source": [
    "### Imputing unknown values of categorical columns\n",
    "In the previous task we have seen some categorical variables have a value called unknown. unknown values are a kind of missing data. Depending on the use case, we can decide how to deal with these values. One method is to directly impute them with the mode value of respective columns.\n",
    "\n",
    "The code below imputes the value unknown in the categorical columns with the mode value of that column. You can modify this function to replace any unwanted value(for e.g NaN value) in a column with a value of your choice."
   ]
  },
  {
   "cell_type": "code",
   "execution_count": 13,
   "metadata": {},
   "outputs": [],
   "source": [
    "#Just replacing \"Unknown\" entry into column value mode.\n",
    "cols = list(data)\n",
    "for col in cols:\n",
    "    if col in data.select_dtypes(exclude=np.number).columns:\n",
    "        data[col] = data[col].str.replace(\"unknown\", data[col].mode()[0])"
   ]
  },
  {
   "cell_type": "markdown",
   "metadata": {},
   "source": [
    "### Univariate analysis of Numerical columns"
   ]
  },
  {
   "cell_type": "code",
   "execution_count": 14,
   "metadata": {},
   "outputs": [],
   "source": [
    "numerical_col = data.select_dtypes(include=np.number).columns.tolist()\n",
    "\n",
    "for i in range(0, len(numerical_col), 2):\n",
    "    if len(numerical_col) > i+1:\n",
    "        \n",
    "        plt.figure(figsize=(10,4))\n",
    "        plt.subplot(121)\n",
    "        sns.distplot(data[numerical_col[i]], kde=False)\n",
    "        plt.title(numerical_col[i])\n",
    "        plt.subplot(122)\n",
    "        sns.distplot(data[numerical_col[i+1]], kde=False)\n",
    "        plt.title(numerical_col[i])\n",
    "        plt.tight_layout()\n",
    "        plt.show()\n",
    "        \n",
    "    else:\n",
    "        sns.distplot(x=data[numerical_col[i]], kde=False)\n",
    "        plt.title(numerical_col[i])"
   ]
  },
  {
   "cell_type": "code",
   "execution_count": 15,
   "metadata": {},
   "outputs": [],
   "source": [
    "#Some Box plot for better visual\n",
    "\n",
    "for i in range(0, len(numerical_col), 2):\n",
    "    if len(numerical_col) > i+1:\n",
    "        \n",
    "        plt.figure(figsize=(10,4))\n",
    "        plt.subplot(121)\n",
    "        sns.boxplot(data[numerical_col[i]])\n",
    "        plt.title(numerical_col[i])\n",
    "        plt.subplot(122)\n",
    "        sns.boxplot(data[numerical_col[i+1]])\n",
    "        plt.title(numerical_col[i])\n",
    "        plt.tight_layout()\n",
    "        plt.show()\n",
    "        \n",
    "    else:\n",
    "        sns.distplot(x=data[numerical_col[i]])\n",
    "        plt.title(numerical_col[i])"
   ]
  },
  {
   "cell_type": "markdown",
   "metadata": {},
   "source": [
    "Observation :\n",
    "\n",
    "\n",
    "As we can see from the histogram, the features age, duration and campaign are heavily skewed and this is due to the presence of outliers as seen in the boxplot for these features. We will deal with these outliers in the steps below.\n",
    "Looking at the plot for pdays, we can infer that majority of the customers were being contacted for the first time because as per the feature description for pdays the value 999 indicates that the customer had not been contacted previously.\n",
    "Since the features pdays and previous consist majorly only of a single value, their variance is quite less and hence we can drop them since technically will be of no help in prediction."
   ]
  },
  {
   "cell_type": "code",
   "execution_count": 16,
   "metadata": {},
   "outputs": [],
   "source": [
    "#dropping the two columns\n",
    "data.drop(['pdays','previous'],1,inplace=True)"
   ]
  },
  {
   "cell_type": "markdown",
   "metadata": {},
   "source": [
    "## Bivariate Analysis"
   ]
  },
  {
   "cell_type": "code",
   "execution_count": 17,
   "metadata": {},
   "outputs": [],
   "source": [
    "categorical_col = data.select_dtypes(exclude=np.number).columns.tolist()"
   ]
  },
  {
   "cell_type": "code",
   "execution_count": 18,
   "metadata": {},
   "outputs": [],
   "source": [
    "for i in range(0, len(categorical_col),2):\n",
    "    if len(categorical_col) > i+1:\n",
    "        plt.figure(figsize=(10,4))\n",
    "        plt.subplot(121)\n",
    "        sns.countplot(x=data[categorical_col[i]], hue=data[\"y\"], data= data)\n",
    "        plt.xticks(rotation=90)\n",
    "        plt.subplot(122)\n",
    "        sns.countplot(x=data[categorical_col[i+1]], hue=data[\"y\"], data = data)\n",
    "        plt.xticks(rotation=90)\n",
    "        plt.tight_layout()\n",
    "        plt.show()"
   ]
  },
  {
   "cell_type": "markdown",
   "metadata": {},
   "source": [
    "## Treating Outliers"
   ]
  },
  {
   "cell_type": "markdown",
   "metadata": {},
   "source": [
    "Outliers can be treated in a variety of ways. It depends on the skewness of the feature.\n",
    "\n",
    "\n",
    "To reduce right skewness, we use roots or logarithms or reciprocals (roots are weakest). This is the most common problem in practice.\n",
    "\n",
    "\n",
    "To reduce left skewness, we take squares or cubes or higher powers.\n",
    "But in our data, some of the features have negative values and also the value 0. In such cases, square root transform or logarithmic transformation cannot be used since we cannot take square root of negative values and logarithm of zero is not defined.\n",
    "\n",
    "\n",
    "Hence for this data we use a method called <b>Winsorization</b>. In this method we define a confidence interval of let's say 90% and then replace all the outliers below the 5th percentile with the value at 5th percentile and all the values above 95th percentile with the value at the 95th percentile. It is pretty useful when there are negative values and zeros in the features which cannot be treated with log transforms or square roots"
   ]
  },
  {
   "cell_type": "code",
   "execution_count": 19,
   "metadata": {},
   "outputs": [],
   "source": [
    "from scipy.stats.mstats import winsorize\n",
    "cols = list(data)\n",
    "\n",
    "for col in cols:\n",
    "    if col in data.select_dtypes(include=np.number).columns:\n",
    "        data[col] = winsorize(data[col], limits=[0.05,0.1], inclusive=(True, True))"
   ]
  },
  {
   "cell_type": "code",
   "execution_count": 20,
   "metadata": {},
   "outputs": [
    {
     "data": {
      "text/html": [
       "<div>\n",
       "<style scoped>\n",
       "    .dataframe tbody tr th:only-of-type {\n",
       "        vertical-align: middle;\n",
       "    }\n",
       "\n",
       "    .dataframe tbody tr th {\n",
       "        vertical-align: top;\n",
       "    }\n",
       "\n",
       "    .dataframe thead th {\n",
       "        text-align: right;\n",
       "    }\n",
       "</style>\n",
       "<table border=\"1\" class=\"dataframe\">\n",
       "  <thead>\n",
       "    <tr style=\"text-align: right;\">\n",
       "      <th></th>\n",
       "      <th>Feature</th>\n",
       "      <th>Number of Outliers</th>\n",
       "    </tr>\n",
       "  </thead>\n",
       "  <tbody>\n",
       "    <tr>\n",
       "      <th>2</th>\n",
       "      <td>age</td>\n",
       "      <td>0.0</td>\n",
       "    </tr>\n",
       "    <tr>\n",
       "      <th>3</th>\n",
       "      <td>duration</td>\n",
       "      <td>0.0</td>\n",
       "    </tr>\n",
       "    <tr>\n",
       "      <th>4</th>\n",
       "      <td>campaign</td>\n",
       "      <td>0.0</td>\n",
       "    </tr>\n",
       "    <tr>\n",
       "      <th>5</th>\n",
       "      <td>emp.var.rate</td>\n",
       "      <td>0.0</td>\n",
       "    </tr>\n",
       "    <tr>\n",
       "      <th>6</th>\n",
       "      <td>cons.price.idx</td>\n",
       "      <td>0.0</td>\n",
       "    </tr>\n",
       "    <tr>\n",
       "      <th>7</th>\n",
       "      <td>cons.conf.idx</td>\n",
       "      <td>0.0</td>\n",
       "    </tr>\n",
       "    <tr>\n",
       "      <th>8</th>\n",
       "      <td>euribor3m</td>\n",
       "      <td>0.0</td>\n",
       "    </tr>\n",
       "    <tr>\n",
       "      <th>9</th>\n",
       "      <td>nr.employed</td>\n",
       "      <td>0.0</td>\n",
       "    </tr>\n",
       "  </tbody>\n",
       "</table>\n",
       "</div>"
      ],
      "text/plain": [
       "          Feature  Number of Outliers\n",
       "2             age                 0.0\n",
       "3        duration                 0.0\n",
       "4        campaign                 0.0\n",
       "5    emp.var.rate                 0.0\n",
       "6  cons.price.idx                 0.0\n",
       "7   cons.conf.idx                 0.0\n",
       "8       euribor3m                 0.0\n",
       "9     nr.employed                 0.0"
      ]
     },
     "execution_count": 20,
     "metadata": {},
     "output_type": "execute_result"
    }
   ],
   "source": [
    "#Rechecking the outliers\n",
    "\n",
    "cols = list(data)\n",
    "outliers = pd.DataFrame(['Features','Number of Outliers'])\n",
    "for column in cols:\n",
    "    if column in data.select_dtypes(include=np.number).columns:\n",
    "        \n",
    "        q1 = data[column].quantile(0.25)\n",
    "        \n",
    "        q3 = data[column].quantile(0.75)\n",
    "        \n",
    "        iqr = q3 - q1\n",
    "        \n",
    "        fence_low = q1 - (1.5*iqr)\n",
    "        fence_above = q3 + (1.5*iqr)\n",
    "        \n",
    "        outliers = outliers.append({'Feature':column,'Number of Outliers':data.loc[(data[column] < fence_low) | (data[column] > fence_above)].shape[0]},ignore_index=True)\n",
    "outliers.drop(0, axis=1, inplace=True)\n",
    "outliers.dropna(axis=0, inplace=True)\n",
    "outliers"
   ]
  },
  {
   "cell_type": "markdown",
   "metadata": {},
   "source": [
    "### OneHotEncoding and LabelEncoder"
   ]
  },
  {
   "cell_type": "code",
   "execution_count": 21,
   "metadata": {},
   "outputs": [
    {
     "name": "stdout",
     "output_type": "stream",
     "text": [
      "Encoding done for job\n",
      "Encoding done for marital\n",
      "Encoding done for education\n",
      "Encoding done for default\n",
      "Encoding done for housing\n",
      "Encoding done for loan\n",
      "Encoding done for contact\n",
      "Encoding done for month\n",
      "Encoding done for day_of_week\n",
      "Encoding done for poutcome\n",
      "Encoding done for y\n"
     ]
    }
   ],
   "source": [
    "#OneHotEncoding and Label Encoder\n",
    "#Label Encoder will assign number to objects\n",
    "#OneHotEncoding will create dummies for the nominal categories\n",
    "\n",
    "col_to_encode = list(data.select_dtypes(include=[\"category\", \"object\"]))\n",
    "from sklearn.preprocessing import OneHotEncoder, LabelEncoder, MinMaxScaler, StandardScaler\n",
    "\n",
    "le = LabelEncoder()\n",
    "for features in col_to_encode:\n",
    "    try:\n",
    "        data[features] = le.fit_transform(data[features])\n",
    "        print(\"Encoding done for \" + features)\n",
    "    except:\n",
    "        print(\"Error in encoding\" + features)"
   ]
  },
  {
   "cell_type": "markdown",
   "metadata": {},
   "source": [
    "### Vanilla models"
   ]
  },
  {
   "cell_type": "code",
   "execution_count": 22,
   "metadata": {},
   "outputs": [],
   "source": [
    "#Segragating Independent and Dependent values\n",
    "X = data.iloc[:,:-1]"
   ]
  },
  {
   "cell_type": "code",
   "execution_count": 23,
   "metadata": {},
   "outputs": [],
   "source": [
    "y = data.iloc[:,-1]"
   ]
  },
  {
   "cell_type": "code",
   "execution_count": 24,
   "metadata": {},
   "outputs": [],
   "source": [
    "#importiing libraries\n",
    "from sklearn.model_selection import train_test_split\n",
    "from sklearn.feature_selection import RFE\n",
    "from sklearn.linear_model import LogisticRegression\n",
    "from sklearn.metrics import classification_report, confusion_matrix, roc_auc_score, roc_curve, mean_squared_error,accuracy_score"
   ]
  },
  {
   "cell_type": "code",
   "execution_count": 25,
   "metadata": {},
   "outputs": [
    {
     "data": {
      "text/plain": [
       "LogisticRegression()"
      ]
     },
     "execution_count": 25,
     "metadata": {},
     "output_type": "execute_result"
    },
    {
     "name": "stdout",
     "output_type": "stream",
     "text": [
      "Confusion Metrics\n"
     ]
    },
    {
     "data": {
      "text/plain": [
       "array([[5617,  181],\n",
       "       [ 526,  266]])"
      ]
     },
     "execution_count": 25,
     "metadata": {},
     "output_type": "execute_result"
    },
    {
     "name": "stdout",
     "output_type": "stream",
     "text": [
      "Classification Report\n",
      "              precision    recall  f1-score   support\n",
      "\n",
      "           0       0.91      0.97      0.94      5798\n",
      "           1       0.60      0.34      0.43       792\n",
      "\n",
      "    accuracy                           0.89      6590\n",
      "   macro avg       0.75      0.65      0.69      6590\n",
      "weighted avg       0.88      0.89      0.88      6590\n",
      "\n",
      "ROC_AUC_Score 0.6523204622980406\n"
     ]
    },
    {
     "data": {
      "text/plain": [
       "[<matplotlib.lines.Line2D at 0x128813820>]"
      ]
     },
     "execution_count": 25,
     "metadata": {},
     "output_type": "execute_result"
    },
    {
     "data": {
      "text/plain": [
       "Text(0.5, 0, 'FPR')"
      ]
     },
     "execution_count": 25,
     "metadata": {},
     "output_type": "execute_result"
    },
    {
     "data": {
      "text/plain": [
       "Text(0, 0.5, 'TPR')"
      ]
     },
     "execution_count": 25,
     "metadata": {},
     "output_type": "execute_result"
    },
    {
     "data": {
      "text/plain": [
       "Text(0.5, 1.0, 'ROC_AUC_Curve')"
      ]
     },
     "execution_count": 25,
     "metadata": {},
     "output_type": "execute_result"
    },
    {
     "data": {
      "image/png": "[encoded data removed]",
      "text/plain": [
       "<Figure size 432x288 with 1 Axes>"
      ]
     },
     "metadata": {
      "needs_background": "light"
     },
     "output_type": "display_data"
    }
   ],
   "source": [
    "#Splitting the data in 80:20\n",
    "X_train, X_test, y_train, y_test = train_test_split(X,y, test_size=0.2, random_state=42)\n",
    "\n",
    "\n",
    "#Vanilla Model with Logistic Regression\n",
    "model = LogisticRegression()\n",
    "\n",
    "#Fitting the model\n",
    "model.fit(X_train, y_train)\n",
    "\n",
    "#Predicting\n",
    "y_scores = model.predict(X_test)\n",
    "\n",
    "#confusion metrics\n",
    "print(\"Confusion Metrics\")\n",
    "confusion_matrix(y_test, y_scores)\n",
    "\n",
    "#Classification Report\n",
    "print(\"Classification Report\")\n",
    "print(classification_report(y_test, y_scores))\n",
    "\n",
    "#ROC -Curve\n",
    "fpr, tpr, _ = roc_curve(y_test, y_scores)\n",
    "print(\"ROC_AUC_Score\", roc_auc_score(y_test, y_scores))\n",
    "\n",
    "#plotting\n",
    "plt.plot(fpr, tpr)\n",
    "plt.xlabel(\"FPR\")\n",
    "plt.ylabel(\"TPR\")\n",
    "plt.title(\"ROC_AUC_Curve\")\n",
    "plt.show()"
   ]
  },
  {
   "cell_type": "code",
   "execution_count": 26,
   "metadata": {},
   "outputs": [
    {
     "data": {
      "text/plain": [
       "DecisionTreeClassifier()"
      ]
     },
     "execution_count": 26,
     "metadata": {},
     "output_type": "execute_result"
    },
    {
     "name": "stdout",
     "output_type": "stream",
     "text": [
      "Confusion Metrics\n"
     ]
    },
    {
     "data": {
      "text/plain": [
       "array([[5412,  386],\n",
       "       [ 394,  398]])"
      ]
     },
     "execution_count": 26,
     "metadata": {},
     "output_type": "execute_result"
    },
    {
     "name": "stdout",
     "output_type": "stream",
     "text": [
      "Classification Report\n",
      "              precision    recall  f1-score   support\n",
      "\n",
      "           0       0.93      0.93      0.93      5798\n",
      "           1       0.51      0.50      0.51       792\n",
      "\n",
      "    accuracy                           0.88      6590\n",
      "   macro avg       0.72      0.72      0.72      6590\n",
      "weighted avg       0.88      0.88      0.88      6590\n",
      "\n",
      "ROC_AUC_Score 0.7179752858003978\n"
     ]
    },
    {
     "data": {
      "text/plain": [
       "[<matplotlib.lines.Line2D at 0x12967beb0>]"
      ]
     },
     "execution_count": 26,
     "metadata": {},
     "output_type": "execute_result"
    },
    {
     "data": {
      "text/plain": [
       "Text(0.5, 0, 'FPR')"
      ]
     },
     "execution_count": 26,
     "metadata": {},
     "output_type": "execute_result"
    },
    {
     "data": {
      "text/plain": [
       "Text(0, 0.5, 'TPR')"
      ]
     },
     "execution_count": 26,
     "metadata": {},
     "output_type": "execute_result"
    },
    {
     "data": {
      "text/plain": [
       "Text(0.5, 1.0, 'ROC_AUC_Curve')"
      ]
     },
     "execution_count": 26,
     "metadata": {},
     "output_type": "execute_result"
    },
    {
     "data": {
      "image/png": "[encoded data removed]",
      "text/plain": [
       "<Figure size 432x288 with 1 Axes>"
      ]
     },
     "metadata": {
      "needs_background": "light"
     },
     "output_type": "display_data"
    }
   ],
   "source": [
    "#DecisionTreeClassifier\n",
    "from sklearn.tree import DecisionTreeClassifier\n",
    "\n",
    "model = DecisionTreeClassifier()\n",
    "\n",
    "#Fitting the model\n",
    "model.fit(X_train, y_train)\n",
    "\n",
    "#Predicting\n",
    "y_scores = model.predict(X_test)\n",
    "\n",
    "#confusion metrics\n",
    "print(\"Confusion Metrics\")\n",
    "confusion_matrix(y_test, y_scores)\n",
    "\n",
    "#Classification Report\n",
    "print(\"Classification Report\")\n",
    "print(classification_report(y_test, y_scores))\n",
    "\n",
    "#ROC -Curve\n",
    "fpr, tpr, _ = roc_curve(y_test, y_scores)\n",
    "print(\"ROC_AUC_Score\", roc_auc_score(y_test, y_scores))\n",
    "\n",
    "#plotting\n",
    "plt.plot(fpr, tpr)\n",
    "plt.xlabel(\"FPR\")\n",
    "plt.ylabel(\"TPR\")\n",
    "plt.title(\"ROC_AUC_Curve\")\n",
    "plt.show()"
   ]
  },
  {
   "cell_type": "code",
   "execution_count": 27,
   "metadata": {},
   "outputs": [
    {
     "data": {
      "text/plain": [
       "RandomForestClassifier()"
      ]
     },
     "execution_count": 27,
     "metadata": {},
     "output_type": "execute_result"
    },
    {
     "name": "stdout",
     "output_type": "stream",
     "text": [
      "Confusion Metrics\n"
     ]
    },
    {
     "data": {
      "text/plain": [
       "array([[5584,  214],\n",
       "       [ 417,  375]])"
      ]
     },
     "execution_count": 27,
     "metadata": {},
     "output_type": "execute_result"
    },
    {
     "name": "stdout",
     "output_type": "stream",
     "text": [
      "Classification Report\n",
      "              precision    recall  f1-score   support\n",
      "\n",
      "           0       0.93      0.96      0.95      5798\n",
      "           1       0.64      0.47      0.54       792\n",
      "\n",
      "    accuracy                           0.90      6590\n",
      "   macro avg       0.78      0.72      0.74      6590\n",
      "weighted avg       0.90      0.90      0.90      6590\n",
      "\n",
      "ROC_AUC_Score 0.7182877847115516\n"
     ]
    },
    {
     "data": {
      "text/plain": [
       "[<matplotlib.lines.Line2D at 0x12962d3a0>]"
      ]
     },
     "execution_count": 27,
     "metadata": {},
     "output_type": "execute_result"
    },
    {
     "data": {
      "text/plain": [
       "Text(0.5, 0, 'FPR')"
      ]
     },
     "execution_count": 27,
     "metadata": {},
     "output_type": "execute_result"
    },
    {
     "data": {
      "text/plain": [
       "Text(0, 0.5, 'TPR')"
      ]
     },
     "execution_count": 27,
     "metadata": {},
     "output_type": "execute_result"
    },
    {
     "data": {
      "text/plain": [
       "Text(0.5, 1.0, 'ROC_AUC_Curve')"
      ]
     },
     "execution_count": 27,
     "metadata": {},
     "output_type": "execute_result"
    },
    {
     "data": {
      "image/png": "[encoded data removed]",
      "text/plain": [
       "<Figure size 432x288 with 1 Axes>"
      ]
     },
     "metadata": {
      "needs_background": "light"
     },
     "output_type": "display_data"
    }
   ],
   "source": [
    "#RandomForest Classifier\n",
    "from sklearn.ensemble import RandomForestClassifier, GradientBoostingClassifier\n",
    "\n",
    "model = RandomForestClassifier()\n",
    "\n",
    "#Fitting the model\n",
    "model.fit(X_train, y_train)\n",
    "\n",
    "#Predicting\n",
    "y_scores = model.predict(X_test)\n",
    "\n",
    "#confusion metrics\n",
    "print(\"Confusion Metrics\")\n",
    "confusion_matrix(y_test, y_scores)\n",
    "\n",
    "#Classification Report\n",
    "print(\"Classification Report\")\n",
    "print(classification_report(y_test, y_scores))\n",
    "\n",
    "#ROC -Curve\n",
    "fpr, tpr, _ = roc_curve(y_test, y_scores)\n",
    "print(\"ROC_AUC_Score\", roc_auc_score(y_test, y_scores))\n",
    "\n",
    "#plotting\n",
    "plt.plot(fpr, tpr)\n",
    "plt.xlabel(\"FPR\")\n",
    "plt.ylabel(\"TPR\")\n",
    "plt.title(\"ROC_AUC_Curve\")\n",
    "plt.show()"
   ]
  },
  {
   "cell_type": "code",
   "execution_count": 28,
   "metadata": {},
   "outputs": [
    {
     "data": {
      "text/plain": [
       "XGBClassifier(base_score=0.5, booster='gbtree', colsample_bylevel=1,\n",
       "              colsample_bynode=1, colsample_bytree=1, gamma=0, gpu_id=-1,\n",
       "              importance_type='gain', interaction_constraints='',\n",
       "              learning_rate=0.300000012, max_delta_step=0, max_depth=6,\n",
       "              min_child_weight=1, missing=nan, monotone_constraints='()',\n",
       "              n_estimators=100, n_jobs=0, num_parallel_tree=1, random_state=0,\n",
       "              reg_alpha=0, reg_lambda=1, scale_pos_weight=1, subsample=1,\n",
       "              tree_method='exact', validate_parameters=1, verbosity=None)"
      ]
     },
     "execution_count": 28,
     "metadata": {},
     "output_type": "execute_result"
    },
    {
     "name": "stdout",
     "output_type": "stream",
     "text": [
      "Confusion Metrics\n"
     ]
    },
    {
     "data": {
      "text/plain": [
       "array([[5554,  244],\n",
       "       [ 387,  405]])"
      ]
     },
     "execution_count": 28,
     "metadata": {},
     "output_type": "execute_result"
    },
    {
     "name": "stdout",
     "output_type": "stream",
     "text": [
      "Classification Report\n",
      "              precision    recall  f1-score   support\n",
      "\n",
      "           0       0.93      0.96      0.95      5798\n",
      "           1       0.62      0.51      0.56       792\n",
      "\n",
      "    accuracy                           0.90      6590\n",
      "   macro avg       0.78      0.73      0.75      6590\n",
      "weighted avg       0.90      0.90      0.90      6590\n",
      "\n",
      "ROC_AUC_Score 0.7346400796512903\n"
     ]
    },
    {
     "data": {
      "text/plain": [
       "[<matplotlib.lines.Line2D at 0x129915310>]"
      ]
     },
     "execution_count": 28,
     "metadata": {},
     "output_type": "execute_result"
    },
    {
     "data": {
      "text/plain": [
       "Text(0.5, 0, 'FPR')"
      ]
     },
     "execution_count": 28,
     "metadata": {},
     "output_type": "execute_result"
    },
    {
     "data": {
      "text/plain": [
       "Text(0, 0.5, 'TPR')"
      ]
     },
     "execution_count": 28,
     "metadata": {},
     "output_type": "execute_result"
    },
    {
     "data": {
      "text/plain": [
       "Text(0.5, 1.0, 'ROC_AUC_Curve')"
      ]
     },
     "execution_count": 28,
     "metadata": {},
     "output_type": "execute_result"
    },
    {
     "data": {
      "image/png": "[encoded data removed]",
      "text/plain": [
       "<Figure size 432x288 with 1 Axes>"
      ]
     },
     "metadata": {
      "needs_background": "light"
     },
     "output_type": "display_data"
    }
   ],
   "source": [
    "#XGBoost classifier\n",
    "from xgboost import XGBClassifier\n",
    "\n",
    "model = XGBClassifier()\n",
    "\n",
    "#Fitting the model\n",
    "model.fit(X_train, y_train)\n",
    "\n",
    "#Predicting\n",
    "y_scores = model.predict(X_test)\n",
    "\n",
    "#confusion metrics\n",
    "print(\"Confusion Metrics\")\n",
    "confusion_matrix(y_test, y_scores)\n",
    "\n",
    "#Classification Report\n",
    "print(\"Classification Report\")\n",
    "print(classification_report(y_test, y_scores))\n",
    "\n",
    "#ROC -Curve\n",
    "fpr, tpr, _ = roc_curve(y_test, y_scores)\n",
    "print(\"ROC_AUC_Score\", roc_auc_score(y_test, y_scores))\n",
    "\n",
    "#plotting\n",
    "plt.plot(fpr, tpr)\n",
    "plt.xlabel(\"FPR\")\n",
    "plt.ylabel(\"TPR\")\n",
    "plt.title(\"ROC_AUC_Curve\")\n",
    "plt.show()"
   ]
  },
  {
   "cell_type": "code",
   "execution_count": 29,
   "metadata": {},
   "outputs": [
    {
     "data": {
      "text/plain": [
       "GradientBoostingClassifier()"
      ]
     },
     "execution_count": 29,
     "metadata": {},
     "output_type": "execute_result"
    },
    {
     "name": "stdout",
     "output_type": "stream",
     "text": [
      "Confusion Metrics\n"
     ]
    },
    {
     "data": {
      "text/plain": [
       "array([[5609,  189],\n",
       "       [ 446,  346]])"
      ]
     },
     "execution_count": 29,
     "metadata": {},
     "output_type": "execute_result"
    },
    {
     "name": "stdout",
     "output_type": "stream",
     "text": [
      "Classification Report\n",
      "              precision    recall  f1-score   support\n",
      "\n",
      "           0       0.93      0.97      0.95      5798\n",
      "           1       0.65      0.44      0.52       792\n",
      "\n",
      "    accuracy                           0.90      6590\n",
      "   macro avg       0.79      0.70      0.73      6590\n",
      "weighted avg       0.89      0.90      0.90      6590\n",
      "\n",
      "ROC_AUC_Score 0.7021356197365166\n"
     ]
    },
    {
     "data": {
      "text/plain": [
       "[<matplotlib.lines.Line2D at 0x129399eb0>]"
      ]
     },
     "execution_count": 29,
     "metadata": {},
     "output_type": "execute_result"
    },
    {
     "data": {
      "text/plain": [
       "Text(0.5, 0, 'FPR')"
      ]
     },
     "execution_count": 29,
     "metadata": {},
     "output_type": "execute_result"
    },
    {
     "data": {
      "text/plain": [
       "Text(0, 0.5, 'TPR')"
      ]
     },
     "execution_count": 29,
     "metadata": {},
     "output_type": "execute_result"
    },
    {
     "data": {
      "text/plain": [
       "Text(0.5, 1.0, 'ROC_AUC_Curve')"
      ]
     },
     "execution_count": 29,
     "metadata": {},
     "output_type": "execute_result"
    },
    {
     "data": {
      "image/png": "[encoded data removed]",
      "text/plain": [
       "<Figure size 432x288 with 1 Axes>"
      ]
     },
     "metadata": {
      "needs_background": "light"
     },
     "output_type": "display_data"
    }
   ],
   "source": [
    "#GradientBoosting Classifier\n",
    "model = GradientBoostingClassifier()\n",
    "\n",
    "#Fitting the model\n",
    "model.fit(X_train, y_train)\n",
    "\n",
    "#Predicting\n",
    "y_scores = model.predict(X_test)\n",
    "\n",
    "#confusion metrics\n",
    "print(\"Confusion Metrics\")\n",
    "confusion_matrix(y_test, y_scores)\n",
    "\n",
    "#Classification Report\n",
    "print(\"Classification Report\")\n",
    "print(classification_report(y_test, y_scores))\n",
    "\n",
    "#ROC -Curve\n",
    "fpr, tpr, _ = roc_curve(y_test, y_scores)\n",
    "print(\"ROC_AUC_Score\", roc_auc_score(y_test, y_scores))\n",
    "\n",
    "#plotting\n",
    "plt.plot(fpr, tpr)\n",
    "plt.xlabel(\"FPR\")\n",
    "plt.ylabel(\"TPR\")\n",
    "plt.title(\"ROC_AUC_Curve\")\n",
    "plt.show()"
   ]
  },
  {
   "cell_type": "markdown",
   "metadata": {},
   "source": [
    "## Implementing Recursive Feature Elimination (RFE)\n",
    "\n",
    "For selecting definite set of independant attribute, we are using RFE."
   ]
  },
  {
   "cell_type": "code",
   "execution_count": 30,
   "metadata": {},
   "outputs": [
    {
     "data": {
      "text/plain": [
       "['marital',\n",
       " 'education',\n",
       " 'contact',\n",
       " 'day_of_week',\n",
       " 'poutcome',\n",
       " 'emp.var.rate',\n",
       " 'cons.conf.idx',\n",
       " 'euribor3m']"
      ]
     },
     "execution_count": 30,
     "metadata": {},
     "output_type": "execute_result"
    }
   ],
   "source": [
    "#Out of 18 independent variables, we will take only 8 variable depending on its importance\n",
    "#One thing to note as we use different model, the feature selected by RFE function will vary.\n",
    "\n",
    "#For Logistic Classifier\n",
    "model_LR = LogisticRegression()\n",
    "\n",
    "rfe = RFE(model_LR, 8)\n",
    "rfe = rfe.fit(X,y)\n",
    "\n",
    "feature_rank = pd.Series(rfe.ranking_, index=X.columns)\n",
    "#Taking feature which has 1 rank\n",
    "data_feature = feature_rank[feature_rank.values==1].index.tolist()\n",
    "data_feature"
   ]
  },
  {
   "cell_type": "code",
   "execution_count": 31,
   "metadata": {},
   "outputs": [
    {
     "data": {
      "text/plain": [
       "['age',\n",
       " 'job',\n",
       " 'education',\n",
       " 'day_of_week',\n",
       " 'duration',\n",
       " 'campaign',\n",
       " 'euribor3m',\n",
       " 'nr.employed']"
      ]
     },
     "execution_count": 31,
     "metadata": {},
     "output_type": "execute_result"
    }
   ],
   "source": [
    "#For Random Forest Classifier\n",
    "model_RF = RandomForestClassifier()\n",
    "\n",
    "rfe = RFE(model_RF, 8)\n",
    "rfe = rfe.fit(X,y)\n",
    "\n",
    "feature_rank = pd.Series(rfe.ranking_, index=X.columns)\n",
    "#Taking feature which has 1 rank\n",
    "data_feature = feature_rank[feature_rank.values==1].index.tolist()\n",
    "data_feature"
   ]
  },
  {
   "cell_type": "code",
   "execution_count": 32,
   "metadata": {},
   "outputs": [
    {
     "data": {
      "text/plain": [
       "['contact',\n",
       " 'duration',\n",
       " 'poutcome',\n",
       " 'emp.var.rate',\n",
       " 'cons.price.idx',\n",
       " 'cons.conf.idx',\n",
       " 'euribor3m',\n",
       " 'nr.employed']"
      ]
     },
     "execution_count": 32,
     "metadata": {},
     "output_type": "execute_result"
    }
   ],
   "source": [
    "#For XGB Classifier\n",
    "model_XG = XGBClassifier()\n",
    "\n",
    "rfe = RFE(model_XG, 8)\n",
    "rfe = rfe.fit(X,y)\n",
    "\n",
    "feature_rank = pd.Series(rfe.ranking_, index=X.columns)\n",
    "#Taking feature which has 1 rank\n",
    "data_feature = feature_rank[feature_rank.values==1].index.tolist()\n",
    "data_feature"
   ]
  },
  {
   "cell_type": "markdown",
   "metadata": {},
   "source": [
    "## Feature Selection using Random Forest\n",
    "\n",
    "Another way to find the important independant attibutes"
   ]
  },
  {
   "cell_type": "code",
   "execution_count": 33,
   "metadata": {},
   "outputs": [
    {
     "data": {
      "text/plain": [
       "RandomForestClassifier(random_state=42)"
      ]
     },
     "execution_count": 33,
     "metadata": {},
     "output_type": "execute_result"
    },
    {
     "data": {
      "text/plain": [
       "<AxesSubplot:>"
      ]
     },
     "execution_count": 33,
     "metadata": {},
     "output_type": "execute_result"
    },
    {
     "data": {
      "image/png": "[encoded data removed]",
      "text/plain": [
       "<Figure size 432x288 with 1 Axes>"
      ]
     },
     "metadata": {
      "needs_background": "light"
     },
     "output_type": "display_data"
    }
   ],
   "source": [
    "X_train, X_test, y_train, y_test = train_test_split(X,y, test_size=0.3, random_state=42, stratify=y)\n",
    "rfc = RandomForestClassifier(random_state=42)\n",
    "rfc.fit(X_train, y_train)\n",
    "y_pred = rfc.predict(X_test)\n",
    "rfc_important = pd.Series(rfc.feature_importances_, index=X.columns).sort_values()\n",
    "rfc_important.plot(kind=\"bar\")\n",
    "plt.show()"
   ]
  },
  {
   "cell_type": "code",
   "execution_count": 34,
   "metadata": {},
   "outputs": [
    {
     "data": {
      "text/plain": [
       "DecisionTreeClassifier(random_state=42)"
      ]
     },
     "execution_count": 34,
     "metadata": {},
     "output_type": "execute_result"
    },
    {
     "data": {
      "text/plain": [
       "<AxesSubplot:>"
      ]
     },
     "execution_count": 34,
     "metadata": {},
     "output_type": "execute_result"
    },
    {
     "data": {
      "image/png": "[encoded data removed]",
      "text/plain": [
       "<Figure size 432x288 with 1 Axes>"
      ]
     },
     "metadata": {
      "needs_background": "light"
     },
     "output_type": "display_data"
    }
   ],
   "source": [
    "X_train, X_test, y_train, y_test = train_test_split(X,y, test_size=0.3, random_state=42, stratify=y)\n",
    "dtc = DecisionTreeClassifier(random_state=42)\n",
    "dtc.fit(X_train, y_train)\n",
    "y_pred = dtc.predict(X_test)\n",
    "dtc_important = pd.Series(dtc.feature_importances_, index=X.columns).sort_values()\n",
    "dtc_important.plot(kind=\"bar\")\n",
    "plt.show()"
   ]
  },
  {
   "cell_type": "code",
   "execution_count": 35,
   "metadata": {},
   "outputs": [
    {
     "data": {
      "text/plain": [
       "XGBClassifier(base_score=0.5, booster='gbtree', colsample_bylevel=1,\n",
       "              colsample_bynode=1, colsample_bytree=1, gamma=0, gpu_id=-1,\n",
       "              importance_type='gain', interaction_constraints='',\n",
       "              learning_rate=0.300000012, max_delta_step=0, max_depth=6,\n",
       "              min_child_weight=1, missing=nan, monotone_constraints='()',\n",
       "              n_estimators=100, n_jobs=0, num_parallel_tree=1, random_state=42,\n",
       "              reg_alpha=0, reg_lambda=1, scale_pos_weight=1, subsample=1,\n",
       "              tree_method='exact', validate_parameters=1, verbosity=None)"
      ]
     },
     "execution_count": 35,
     "metadata": {},
     "output_type": "execute_result"
    },
    {
     "data": {
      "text/plain": [
       "<AxesSubplot:>"
      ]
     },
     "execution_count": 35,
     "metadata": {},
     "output_type": "execute_result"
    },
    {
     "data": {
      "image/png": "[encoded data removed]",
      "text/plain": [
       "<Figure size 432x288 with 1 Axes>"
      ]
     },
     "metadata": {
      "needs_background": "light"
     },
     "output_type": "display_data"
    }
   ],
   "source": [
    "X_train, X_test, y_train, y_test = train_test_split(X,y, test_size=0.3, random_state=42, stratify=y)\n",
    "xgc = XGBClassifier(random_state=42)\n",
    "xgc.fit(X_train, y_train)\n",
    "y_pred = xgc.predict(X_test)\n",
    "xgc_important = pd.Series(xgc.feature_importances_, index=X.columns).sort_values()\n",
    "xgc_important.plot(kind=\"bar\")\n",
    "plt.show()"
   ]
  },
  {
   "cell_type": "markdown",
   "metadata": {},
   "source": [
    "## GridSearch and Hyperparameter Tuning\n",
    "\n",
    "#### Limiting to only Random Forest Classifier"
   ]
  },
  {
   "cell_type": "code",
   "execution_count": 36,
   "metadata": {},
   "outputs": [
    {
     "data": {
      "text/plain": [
       "GridSearchCV(estimator=RandomForestClassifier(random_state=42),\n",
       "             param_grid={'criterion': ['gini', 'entropy'],\n",
       "                         'max_depth': [6, 7, 8],\n",
       "                         'max_features': ['auto', 'sqrt', 'log2']})"
      ]
     },
     "execution_count": 36,
     "metadata": {},
     "output_type": "execute_result"
    },
    {
     "name": "stdout",
     "output_type": "stream",
     "text": [
      "Best parameters:  {'criterion': 'gini', 'max_depth': 8, 'max_features': 'auto'}\n"
     ]
    }
   ],
   "source": [
    "#We are right now just limiting ourself to Random Forest Classifier\n",
    "\n",
    "X_train, X_test, y_train, y_test = train_test_split(X,y, test_size=0.3, random_state=42, stratify=y)\n",
    "rfc = RandomForestClassifier(random_state=42)\n",
    "\n",
    "params = {\"max_features\" : [\"auto\",\"sqrt\",\"log2\"],\n",
    "          \"max_depth\" :[6,7,8],\n",
    "          \"criterion\" : [\"gini\",\"entropy\"]}\n",
    "\n",
    "from sklearn.model_selection import GridSearchCV, RandomizedSearchCV\n",
    "grid_search_model = GridSearchCV(rfc, param_grid=params)\n",
    "\n",
    "grid_search_model.fit(X_train, y_train)\n",
    "\n",
    "print(\"Best parameters: \", grid_search_model.best_params_)"
   ]
  },
  {
   "cell_type": "markdown",
   "metadata": {},
   "source": [
    "## After feature selection and best parameters we will take those attribute and work around it.\n",
    "\n",
    "But before that we will execute SMOTE because our dataset is imabalaced.\n",
    "\n",
    "<b> SMOTE will be applied only on Training Data -- not on the validation set </b>"
   ]
  },
  {
   "cell_type": "code",
   "execution_count": 37,
   "metadata": {},
   "outputs": [],
   "source": [
    "from sklearn.model_selection import cross_val_score\n",
    "from imblearn.over_sampling import SMOTE\n",
    "from yellowbrick.classifier import roc_auc"
   ]
  },
  {
   "cell_type": "code",
   "execution_count": 38,
   "metadata": {},
   "outputs": [],
   "source": [
    "#function for SMOTE and random classifier model, with all the 18 independent variables\n",
    "\n",
    "def grid_search_random_forest_smote(dataframe, target):\n",
    "    \n",
    "    X_train, X_test, y_train, y_test = train_test_split(dataframe,target, test_size=0.3, random_state=42)\n",
    "    \n",
    "    #using smote\n",
    "    smote = SMOTE()\n",
    "    \n",
    "    X_sm, y_sm = smote.fit_sample(X_train, y_train)\n",
    "    \n",
    "    rfc = RandomForestClassifier( n_estimators=11,\n",
    "                                  max_features=\"auto\",\n",
    "                                  max_depth=8,\n",
    "                                  criterion=\"entropy\",\n",
    "                                  random_state=42)\n",
    "    \n",
    "    rfc.fit(X_sm, y_sm)\n",
    "    \n",
    "    y_pred = rfc.predict(X_test)\n",
    "    \n",
    "    print(\"Confusion Matrix: \", confusion_matrix(y_test, y_pred))\n",
    "    \n",
    "    print(\"Classification Report: \", classification_report(y_test, y_pred))\n",
    "    \n",
    "    visualizer = roc_auc(rfc, X_sm, y_sm, X_test, y_test)"
   ]
  },
  {
   "cell_type": "code",
   "execution_count": 39,
   "metadata": {},
   "outputs": [
    {
     "name": "stdout",
     "output_type": "stream",
     "text": [
      "Confusion Matrix:  [[7522 1201]\n",
      " [ 174  988]]\n",
      "Classification Report:                precision    recall  f1-score   support\n",
      "\n",
      "           0       0.98      0.86      0.92      8723\n",
      "           1       0.45      0.85      0.59      1162\n",
      "\n",
      "    accuracy                           0.86      9885\n",
      "   macro avg       0.71      0.86      0.75      9885\n",
      "weighted avg       0.92      0.86      0.88      9885\n",
      "\n"
     ]
    },
    {
     "data": {
      "image/png": "[encoded data removed]",
      "text/plain": [
       "<Figure size 576x396 with 1 Axes>"
      ]
     },
     "metadata": {},
     "output_type": "display_data"
    }
   ],
   "source": [
    "grid_search_random_forest_smote(X, y)"
   ]
  },
  {
   "cell_type": "markdown",
   "metadata": {},
   "source": [
    "## Applying \"grid_search_random_forest_smote\" function only on selected feature we got from RFE"
   ]
  },
  {
   "cell_type": "code",
   "execution_count": 40,
   "metadata": {},
   "outputs": [],
   "source": [
    "X1 = X[['age','job','education','day_of_week','duration','campaign','euribor3m','nr.employed']]"
   ]
  },
  {
   "cell_type": "code",
   "execution_count": 41,
   "metadata": {},
   "outputs": [
    {
     "name": "stdout",
     "output_type": "stream",
     "text": [
      "Confusion Matrix:  [[7356 1367]\n",
      " [ 139 1023]]\n",
      "Classification Report:                precision    recall  f1-score   support\n",
      "\n",
      "           0       0.98      0.84      0.91      8723\n",
      "           1       0.43      0.88      0.58      1162\n",
      "\n",
      "    accuracy                           0.85      9885\n",
      "   macro avg       0.70      0.86      0.74      9885\n",
      "weighted avg       0.92      0.85      0.87      9885\n",
      "\n"
     ]
    },
    {
     "data": {
      "image/png": "[encoded data removed]",
      "text/plain": [
       "<Figure size 576x396 with 1 Axes>"
      ]
     },
     "metadata": {},
     "output_type": "display_data"
    }
   ],
   "source": [
    "grid_search_random_forest_smote(X1, y)"
   ]
  },
  {
   "cell_type": "markdown",
   "metadata": {},
   "source": [
    "## Applying \"grid_search_random_forest_smote\" function only on selected feature we got from RF impotant feature"
   ]
  },
  {
   "cell_type": "code",
   "execution_count": 42,
   "metadata": {},
   "outputs": [],
   "source": [
    "X2 = X[['duration','euribor3m','age','nr.employed','job','day_of_week','campaign','education','marital','poutcome']]\n"
   ]
  },
  {
   "cell_type": "code",
   "execution_count": 43,
   "metadata": {},
   "outputs": [
    {
     "name": "stdout",
     "output_type": "stream",
     "text": [
      "Confusion Matrix:  [[7381 1342]\n",
      " [ 132 1030]]\n",
      "Classification Report:                precision    recall  f1-score   support\n",
      "\n",
      "           0       0.98      0.85      0.91      8723\n",
      "           1       0.43      0.89      0.58      1162\n",
      "\n",
      "    accuracy                           0.85      9885\n",
      "   macro avg       0.71      0.87      0.75      9885\n",
      "weighted avg       0.92      0.85      0.87      9885\n",
      "\n"
     ]
    },
    {
     "data": {
      "image/png": "[encoded data removed]",
      "text/plain": [
       "<Figure size 576x396 with 1 Axes>"
      ]
     },
     "metadata": {},
     "output_type": "display_data"
    }
   ],
   "source": [
    "grid_search_random_forest_smote(X2,y)"
   ]
  },
  {
   "cell_type": "markdown",
   "metadata": {},
   "source": [
    "## Ensembling"
   ]
  },
  {
   "cell_type": "markdown",
   "metadata": {},
   "source": [
    "Ensemble learning uses multiple machine learning models to obtain better predictive performance than could be obtained from any of the constituent learning algorithms alone. In the below task, we have used an ensemble of three models - RandomForestClassifier(), GradientBoostingClassifier(), LogisticRegression(). Feel free to modify this function as per your requirements and fit more models or change the parameters for every model."
   ]
  },
  {
   "cell_type": "code",
   "execution_count": 44,
   "metadata": {},
   "outputs": [
    {
     "data": {
      "text/plain": [
       "VotingClassifier(estimators=[('LR', LogisticRegression()),\n",
       "                             ('RF', RandomForestClassifier()),\n",
       "                             ('XGB',\n",
       "                              XGBClassifier(base_score=None, booster=None,\n",
       "                                            colsample_bylevel=None,\n",
       "                                            colsample_bynode=None,\n",
       "                                            colsample_bytree=None, gamma=None,\n",
       "                                            gpu_id=None, importance_type='gain',\n",
       "                                            interaction_constraints=None,\n",
       "                                            learning_rate=None,\n",
       "                                            max_delta_step=None, max_depth=None,\n",
       "                                            min_child_weight=None, missing=nan,\n",
       "                                            monotone_constraints=None,\n",
       "                                            n_estimators=100, n_jobs=None,\n",
       "                                            num_parallel_tree=None,\n",
       "                                            random_state=None, reg_alpha=None,\n",
       "                                            reg_lambda=None,\n",
       "                                            scale_pos_weight=None,\n",
       "                                            subsample=None, tree_method=None,\n",
       "                                            validate_parameters=None,\n",
       "                                            verbosity=None))],\n",
       "                 voting='soft')"
      ]
     },
     "execution_count": 44,
     "metadata": {},
     "output_type": "execute_result"
    },
    {
     "name": "stdout",
     "output_type": "stream",
     "text": [
      "Confusion Matrix:  [[7883  840]\n",
      " [ 272  890]]\n",
      "Classification Report:                precision    recall  f1-score   support\n",
      "\n",
      "           0       0.97      0.90      0.93      8723\n",
      "           1       0.51      0.77      0.62      1162\n",
      "\n",
      "    accuracy                           0.89      9885\n",
      "   macro avg       0.74      0.83      0.77      9885\n",
      "weighted avg       0.91      0.89      0.90      9885\n",
      "\n"
     ]
    },
    {
     "data": {
      "image/png": "[encoded data removed]",
      "text/plain": [
       "<Figure size 576x396 with 1 Axes>"
      ]
     },
     "metadata": {},
     "output_type": "display_data"
    }
   ],
   "source": [
    "from sklearn.ensemble import VotingClassifier\n",
    "\n",
    "X_train, X_test, y_train, y_test = train_test_split(X,y, test_size=0.3, random_state=42)\n",
    "    \n",
    "#using smote\n",
    "smote = SMOTE()\n",
    "    \n",
    "X_sm, y_sm = smote.fit_sample(X_train, y_train)\n",
    "\n",
    "model_LR = LogisticRegression()\n",
    "model_RF = RandomForestClassifier()\n",
    "model_XG = XGBClassifier()\n",
    "\n",
    "#fitting\n",
    "model_final = VotingClassifier(estimators=[(\"LR\", model_LR), (\"RF\", model_RF), (\"XGB\", model_XG)], voting=\"soft\")\n",
    "\n",
    "model_final.fit(X_sm, y_sm)\n",
    "\n",
    "y_pred = model_final.predict(X_test)\n",
    "    \n",
    "print(\"Confusion Matrix: \", confusion_matrix(y_test, y_pred))\n",
    "    \n",
    "print(\"Classification Report: \", classification_report(y_test, y_pred))\n",
    "\n",
    "visualizer = roc_auc(rfc, X_sm, y_sm, X_test, y_test)"
   ]
  },
  {
   "cell_type": "code",
   "execution_count": 45,
   "metadata": {},
   "outputs": [],
   "source": [
    "#For easiness, Test data is already processed and imported here. So, Using only the best model to predict and see how its performaning on test set\n",
    "test1 = pd.read_csv(\"test.csv\", delimiter=\",\")\n",
    "Id = test1[[\"Id\"]]\n",
    "test = pd.read_csv(\"test_preprocessed.csv\", delimiter=\",\")\n",
    "test.drop(\"Id\",1,inplace=True)"
   ]
  },
  {
   "cell_type": "markdown",
   "metadata": {},
   "source": [
    "## Using our last model we will predict and write the file"
   ]
  },
  {
   "cell_type": "code",
   "execution_count": 46,
   "metadata": {},
   "outputs": [],
   "source": [
    "y_pred = model_final.predict(test)\n",
    "prediction = pd.DataFrame(y_pred, columns = [\"y\"])\n",
    "submission = pd.concat([Id, prediction[\"y\"]], 1)\n",
    "submission.to_excel(\"Summitted.xlsx\", sheet_name=\"Output\",index=False)"
   ]
  },
  {
   "cell_type": "code",
   "execution_count": 272,
   "metadata": {},
   "outputs": [],
   "source": []
  },
  {
   "cell_type": "code",
   "execution_count": null,
   "metadata": {},
   "outputs": [],
   "source": []
  }
 ],
 "metadata": {
  "kernelspec": {
   "display_name": "Python 3",
   "language": "python",
   "name": "python3"
  },
  "language_info": {
   "codemirror_mode": {
    "name": "ipython",
    "version": 3
   },
   "file_extension": ".py",
   "mimetype": "text/x-python",
   "name": "python",
   "nbconvert_exporter": "python",
   "pygments_lexer": "ipython3",
   "version": "3.8.3"
  }
 },
 "nbformat": 4,
 "nbformat_minor": 4
}
